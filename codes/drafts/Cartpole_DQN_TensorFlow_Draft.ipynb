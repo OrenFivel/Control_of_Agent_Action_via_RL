{
  "cells": [
    {
      "cell_type": "markdown",
      "source": [
        "# Reference: Alexander Amini and Ava Soleimany, MIT 6.S191: Introduction to Deep Learning, [IntroToDeepLearning.com](http://http://introtodeeplearning.com/)\n",
        "\n",
        "Source: https://github.com/aamini/introtodeeplearning/blob/lab3/lab3/solutions/RL_Solution.ipynb"
      ],
      "metadata": {
        "id": "d17h1KdyH622"
      }
    },
    {
      "cell_type": "code",
      "execution_count": null,
      "metadata": {
        "id": "H7CHgaulKWMm"
      },
      "outputs": [],
      "source": [
        "# training with pid\n",
        "# testing- with+without pid"
      ]
    },
    {
      "cell_type": "code",
      "execution_count": null,
      "metadata": {
        "id": "qSEPaimx7zQe"
      },
      "outputs": [],
      "source": [
        "#printing staff with pid"
      ]
    },
    {
      "cell_type": "code",
      "execution_count": null,
      "metadata": {
        "id": "O66GfOsa7zTT"
      },
      "outputs": [],
      "source": [
        "import gym\n",
        "import tensorflow as tf\n",
        "import numpy as np\n",
        "import matplotlib, cv2\n",
        "import matplotlib.pyplot as plt\n",
        "import base64, io, os, time\n",
        "import IPython, functools\n",
        "from tqdm import tqdm\n",
        "import tensorflow_probability as tfp\n",
        "import math\n",
        "from typing import Optional\n",
        "from gym import spaces, logger\n",
        "from gym.utils import seeding"
      ]
    },
    {
      "cell_type": "code",
      "execution_count": null,
      "metadata": {
        "id": "tKM4-9XG7zWQ"
      },
      "outputs": [],
      "source": [
        "class CartPoleEnvCustomized_with_pid(gym.Env):\n",
        "    \"\"\"\n",
        "    ### Description\n",
        "    This environment corresponds to the version of the cart-pole problem\n",
        "    described by Barto, Sutton, and Anderson in [\"Neuronlike Adaptive Elements That Can Solve Difficult Learning Control Problem\"](https://ieeexplore.ieee.org/document/6313077).\n",
        "    A pole is attached by an un-actuated joint to a cart, which moves along a\n",
        "    frictionless track. The pendulum starts upright, and the goal is to prevent\n",
        "    it from falling over by increasing and reducing the cart's velocity.\n",
        "    ### Action Space\n",
        "    The agent take a 1-element vector for actions.\n",
        "    The action space is `(action)` in `[0, 1]`, where `action` is used to push\n",
        "    the cart with a fixed amount of force:\n",
        "    | Num | Action                 |\n",
        "    |-----|------------------------|\n",
        "    | 0   | Push cart to the left  |\n",
        "    | 1   | Push cart to the right |\n",
        "    Note: The amount the velocity is reduced or increased is not fixed as it depends on the angle the pole is pointing.\n",
        "    This is because the center of gravity of the pole increases the amount of energy needed to move the cart underneath it\n",
        "    ### Observation Space\n",
        "    The observation is a `ndarray` with shape `(4,)` where the elements correspond to the following:\n",
        "    | Num | Observation           | Min                  | Max                |\n",
        "    |-----|-----------------------|----------------------|--------------------|\n",
        "    | 0   | Cart Position         | -4.8*                 | 4.8*                |\n",
        "    | 1   | Cart Velocity         | -Inf                 | Inf                |\n",
        "    | 2   | Pole Angle            | ~ -0.418 rad (-24°)** | ~ 0.418 rad (24°)** |\n",
        "    | 3   | Pole Angular Velocity | -Inf                 | Inf                |\n",
        "    **Note:** above denotes the ranges of possible observations for each element, but in two cases this range exceeds the\n",
        "    range of possible values in an un-terminated episode:\n",
        "    - `*`: the cart x-position can be observed between `(-4.8, 4.8)`, but an episode terminates if the cart leaves the\n",
        "    `(-2.4, 2.4)` range.\n",
        "    - `**`: Similarly, the pole angle can be observed between  `(-.418, .418)` radians or precisely **±24°**, but an episode is\n",
        "    terminated if the pole angle is outside the `(-.2095, .2095)` range or precisely **±12°**\n",
        "    ### Rewards\n",
        "    Reward is 1 for every step taken, including the termination step. The threshold is 475 for v1.\n",
        "    ### Starting State\n",
        "    All observations are assigned a uniform random value between (-0.05, 0.05)\n",
        "    ### Episode Termination\n",
        "    The episode terminates of one of the following occurs:\n",
        "    1. Pole Angle is more than ±12°\n",
        "    2. Cart Position is more than ±2.4 (center of the cart reaches the edge of the display)\n",
        "    3. Episode length is greater than 500 (200 for v0)\n",
        "    ### Arguments\n",
        "    No additional arguments are currently supported.\n",
        "    \"\"\"\n",
        "\n",
        "    metadata = {\"render.modes\": [\"human\", \"rgb_array\"], \"video.frames_per_second\": 50}\n",
        "\n",
        "    def __init__(self):\n",
        "        self.gravity = 9.8\n",
        "        self.masscart = 1.0\n",
        "        self.masspole = 0.1\n",
        "        self.total_mass = self.masspole + self.masscart\n",
        "        self.length = 0.5  # actually half the pole's length\n",
        "        self.polemass_length = self.masspole * self.length\n",
        "        self.force_mag = 10.0\n",
        "        self.tau = 0.02  # seconds between state updates\n",
        "        self.kinematics_integrator = \"euler\"\n",
        "\n",
        "\n",
        "        # Angle at which to fail the episode\n",
        "        self.theta_threshold_radians = 12 * 2 * math.pi / 360\n",
        "        self.x_threshold = 2.4\n",
        "        #self.i_threshold = self.force_mag / self.torque_const_Kt\n",
        "\n",
        "        # Angle limit set to 2 * theta_threshold_radians so failing observation\n",
        "        # is still within bounds.\n",
        "        high = np.array(\n",
        "            [\n",
        "                self.x_threshold * 2,\n",
        "                np.finfo(np.float32).max,\n",
        "                self.theta_threshold_radians * 2,\n",
        "                np.finfo(np.float32).max,\n",
        "            ],\n",
        "            dtype=np.float32,\n",
        "        )\n",
        "\n",
        "        self.action_space = spaces.Discrete(2)\n",
        "        self.observation_space = spaces.Box(-high, high, dtype=np.float32)\n",
        "\n",
        "        self.viewer = None\n",
        "        self.state = None\n",
        "\n",
        "        self.steps_beyond_done = None\n",
        "\n",
        "        ### Customization changes ######\n",
        "        '''add ElectricalDCMotorEnv to the CartPole class\n",
        "        and assign values to\n",
        "        Resistor_R, inductor_L, torque_const_Kt and bemf_const_Ke'''\n",
        "        #self.Resistor_R=1.0\n",
        "        #self.inductor_L=0.1\n",
        "        #self.torque_const_Kt=1.0\n",
        "        #self.bemf_const_Ke=1.0\n",
        "        self.DCMotorModel = ElectricalDCMotorEnv()\n",
        "        self.DCMotorModel.tau = self.tau\n",
        "        self.DCMotorModel.Resistor_R = 1.0\n",
        "        self.DCMotorModel.inductor_L = 0.1\n",
        "        self.DCMotorModel.torque_const_Kt = 1.0\n",
        "        self.DCMotorModel.bemf_const_Ke = 1.0\n",
        "        ####\n",
        "\n",
        "    def step(self, action):\n",
        "        err_msg = f\"{action!r} ({type(action)}) invalid\"\n",
        "        assert self.action_space.contains(action), err_msg\n",
        "\n",
        "        x, x_dot, theta, theta_dot = self.state\n",
        "        force = self.force_mag if action == 1 else -self.force_mag #+/-10N\n",
        "\n",
        "        ### Customization changes #####\n",
        "        ''' set current refrence value current_ref and\n",
        "        caclulate actual applied force F based DC motor model and PID control at\n",
        "        DCMotorModel.step function\n",
        "        '''\n",
        "        current_ref = force/self.DCMotorModel.torque_const_Kt\n",
        "        F = self.DCMotorModel.step(current_ref = current_ref, x_dot = x_dot)\n",
        "        #F = force #ideal env\n",
        "        ###\n",
        "\n",
        "        costheta = math.cos(theta)\n",
        "        sintheta = math.sin(theta)\n",
        "\n",
        "        # For the interested reader:\n",
        "        # https://coneural.org/florian/papers/05_cart_pole.pdf\n",
        "        temp = (\n",
        "            F + self.polemass_length * theta_dot ** 2 * sintheta\n",
        "        ) / self.total_mass\n",
        "        thetaacc = (self.gravity * sintheta - costheta * temp) / (\n",
        "            self.length * (4.0 / 3.0 - self.masspole * costheta ** 2 / self.total_mass)\n",
        "        )\n",
        "        xacc = temp - self.polemass_length * thetaacc * costheta / self.total_mass\n",
        "\n",
        "        if self.kinematics_integrator == \"euler\":\n",
        "            x = x + self.tau * x_dot\n",
        "            x_dot = x_dot + self.tau * xacc\n",
        "            theta = theta + self.tau * theta_dot\n",
        "            theta_dot = theta_dot + self.tau * thetaacc\n",
        "        else:  # semi-implicit euler\n",
        "            x_dot = x_dot + self.tau * xacc\n",
        "            x = x + self.tau * x_dot\n",
        "            theta_dot = theta_dot + self.tau * thetaacc\n",
        "            theta = theta + self.tau * theta_dot\n",
        "\n",
        "        self.state = (x, x_dot, theta, theta_dot)\n",
        "\n",
        "        done = bool(\n",
        "            x < -self.x_threshold\n",
        "            or x > self.x_threshold\n",
        "            or theta < -self.theta_threshold_radians\n",
        "            or theta > self.theta_threshold_radians\n",
        "        )\n",
        "\n",
        "        if not done: # if we inside the valid range\n",
        "            reward = 1.0\n",
        "            #reward = ((-4.3) * abs(theta) + 1)*((-0.375) * abs(x) + 1) * 100\n",
        "            #l = (x**2) + 2 * x * self.length * sintheta + 2 * self.length**2 + (2 * self.length**2) * costheta\n",
        "            #l = ((x-1)**2) + 2 * (x-1) * self.length * sintheta + 2 * self.length**2 + (2 * self.length**2) * costheta\n",
        "            #reward = math.exp((-0.5 * l)/4.8)\n",
        "        elif self.steps_beyond_done is None:\n",
        "            # Pole just fell!\n",
        "            self.steps_beyond_done = 0\n",
        "            reward = 1.0\n",
        "            #reward = ((-4.3) * abs(theta) + 1)*((-0.375) * abs(x) + 1) * 100\n",
        "            #l = (x**2) + 2 * x * self.length * sintheta + 2 * self.length**2 + (2 * self.length**2) * costheta\n",
        "            #l = ((x-1)**2) + 2 * (x-1) * self.length * sintheta + 2 * self.length**2 + (2 * self.length**2) * costheta\n",
        "            #reward = math.exp((-0.5 * l)/4.8)\n",
        "        else:\n",
        "            if self.steps_beyond_done == 0:\n",
        "                logger.warn(\n",
        "                    \"You are calling 'step()' even though this \"\n",
        "                    \"environment has already returned done = True. You \"\n",
        "                    \"should always call 'reset()' once you receive 'done = \"\n",
        "                    \"True' -- any further steps are undefined behavior.\"\n",
        "                )\n",
        "            self.steps_beyond_done += 1\n",
        "            reward = 0.0\n",
        "\n",
        "        return np.array(self.state, dtype=np.float32), reward, done, {} ,force, F ###########################################################change_1#######\n",
        "\n",
        "    def reset(self, return_info = False, options = None):\n",
        "        #super().reset(seed=seed)\n",
        "        #self.state = self.np_random.uniform(low=-0.05, high=0.05, size=(4,))\n",
        "        self.state = np.random.uniform(low=-0.05, high=0.05, size=(4,))\n",
        "        self.DCMotorModel.current = 0.0\n",
        "        self.DCMotorModel.current_error = 0.0\n",
        "        self.DCMotorModel.current_error_acc = 0.0\n",
        "        self.DCMotorModel.current_error_prev = 0.0\n",
        "        #self.state = np.random.uniform(low=-0.05, high=0.05, size=(5,))\n",
        "        self.steps_beyond_done = None\n",
        "        if not return_info:\n",
        "            return np.array(self.state, dtype=np.float32)\n",
        "        else:\n",
        "            return np.array(self.state, dtype=np.float32), {}\n",
        "\n",
        "    def render(self, mode=\"human\"):\n",
        "        screen_width = 600\n",
        "        screen_height = 400\n",
        "\n",
        "        world_width = self.x_threshold * 2\n",
        "        scale = screen_width / world_width\n",
        "        carty = 100  # TOP OF CART\n",
        "        polewidth = 10.0\n",
        "        polelen = scale * (2 * self.length)\n",
        "        cartwidth = 50.0\n",
        "        cartheight = 30.0\n",
        "\n",
        "        if self.viewer is None:\n",
        "            #from gym.utils import pyglet_rendering\n",
        "            from gym.envs.classic_control import rendering as pyglet_rendering\n",
        "\n",
        "            self.viewer = pyglet_rendering.Viewer(screen_width, screen_height)\n",
        "            l, r, t, b = -cartwidth / 2, cartwidth / 2, cartheight / 2, -cartheight / 2\n",
        "            axleoffset = cartheight / 4.0\n",
        "            cart = pyglet_rendering.FilledPolygon([(l, b), (l, t), (r, t), (r, b)])\n",
        "            self.carttrans = pyglet_rendering.Transform()\n",
        "            cart.add_attr(self.carttrans)\n",
        "            self.viewer.add_geom(cart)\n",
        "            l, r, t, b = (\n",
        "                -polewidth / 2,\n",
        "                polewidth / 2,\n",
        "                polelen - polewidth / 2,\n",
        "                -polewidth / 2,\n",
        "            )\n",
        "            pole = pyglet_rendering.FilledPolygon([(l, b), (l, t), (r, t), (r, b)])\n",
        "            pole.set_color(0.8, 0.6, 0.4)\n",
        "            self.poletrans = pyglet_rendering.Transform(translation=(0, axleoffset))\n",
        "            pole.add_attr(self.poletrans)\n",
        "            pole.add_attr(self.carttrans)\n",
        "            self.viewer.add_geom(pole)\n",
        "            self.axle = pyglet_rendering.make_circle(polewidth / 2)\n",
        "            self.axle.add_attr(self.poletrans)\n",
        "            self.axle.add_attr(self.carttrans)\n",
        "            self.axle.set_color(0.5, 0.5, 0.8)\n",
        "            self.viewer.add_geom(self.axle)\n",
        "            self.track = pyglet_rendering.Line((0, carty), (screen_width, carty))\n",
        "            self.track.set_color(0, 0, 0)\n",
        "            self.viewer.add_geom(self.track)\n",
        "\n",
        "            self._pole_geom = pole\n",
        "\n",
        "        if self.state is None:\n",
        "            return None\n",
        "\n",
        "        # Edit the pole polygon vertex\n",
        "        pole = self._pole_geom\n",
        "        l, r, t, b = (\n",
        "            -polewidth / 2,\n",
        "            polewidth / 2,\n",
        "            polelen - polewidth / 2,\n",
        "            -polewidth / 2,\n",
        "        )\n",
        "        pole.v = [(l, b), (l, t), (r, t), (r, b)]\n",
        "\n",
        "        x = self.state\n",
        "        cartx = x[0] * scale + screen_width / 2.0  # MIDDLE OF CART\n",
        "        self.carttrans.set_translation(cartx, carty)\n",
        "        self.poletrans.set_rotation(-x[2])\n",
        "\n",
        "        return self.viewer.render(return_rgb_array=mode == \"rgb_array\")\n",
        "\n",
        "    def close(self):\n",
        "        if self.viewer:\n",
        "            self.viewer.close()\n",
        "            self.viewer = None"
      ]
    },
    {
      "cell_type": "code",
      "execution_count": null,
      "metadata": {
        "id": "QRYxuamA7zZR"
      },
      "outputs": [],
      "source": [
        "class ElectricalDCMotorEnv():\n",
        "\n",
        "      def __init__(self):\n",
        "        self.Resistor_R = 1.0\n",
        "        self.inductor_L = 0.1\n",
        "        self.torque_const_Kt = 1.0\n",
        "        self.bemf_const_Ke = 1.0\n",
        "        self.tau = 0.02\n",
        "        #\n",
        "        #self.Kp = 1.0\n",
        "        #self.Ki = 1.0\n",
        "        #self.Kd = 1.0\n",
        "        #self.aL=10**(-3)+(7./3 - 4./3 -1)#Low pass parameter\n",
        "        #self.aH = 10**2 #High pass parameter\n",
        "\n",
        "        self.Kp = 50.0\n",
        "        self.Ki = 3.0\n",
        "        self.Kd = 10.0**(-6)\n",
        "        self.aL=10.0**(-3) #Low pass parameter\n",
        "        self.aH = 10.0**2 #High pass parameter\n",
        "\n",
        "        #self.Kp = 1.0\n",
        "        #self.Ki = 10.0\n",
        "        #self.Kd = 10**(-6)\n",
        "        #self.aL=10.0**(-3) #Low pass parameter\n",
        "        #self.aH = 10.0**2 #High pass parameter\n",
        "\n",
        "        #\n",
        "        self.current = 0.0\n",
        "        self.current_error = 0.0\n",
        "        self.current_error_acc = 0.0\n",
        "        self.current_error_prev = 0.0\n",
        "        self.voltage_input = 0.0\n",
        "        self.xdot = 0.0\n",
        "        self.PID_Discretization = \"Simple\" #\"Backward\", \" \"Bilinear\" , \"Forward\" \"Simple\"\n",
        "        #self.PID_Discretization = \"Backward\" #\"Backward\"\"Simple\", \" \"Bilinear\" , \"Forward\" \"Simple\"\n",
        "        #self.PID_Discretization = \"Bilinear\" #\"Backward\"\"Simple\", \" \"Bilinear\" , \"Forward\" \"Simple\"\n",
        "\n",
        "      def step(self, current_ref, x_dot):\n",
        "        aL = self.aL\n",
        "        aH = self.aH\n",
        "        self.current_error = current_ref-self.current\n",
        "        delta_error = self.current_error-self.current_error_prev\n",
        "\n",
        "        if self.PID_Discretization == \"Simple\":\n",
        "          self.current_error_acc += self.current_error*self.tau\n",
        "          HP_delta_error = delta_error\n",
        "\n",
        "        elif self.PID_Discretization == \"Backward\":\n",
        "          self.current_error_acc = (self.current_error_acc+(self.current_error)*self.tau)/(1+aL*self.tau) #Low Pass\n",
        "          HP_delta_error = (self.current_error + aH*delta_error)/(1+aL*self.tau)#High Pass\n",
        "\n",
        "        elif self.PID_Discretization == \"Bilinear\":\n",
        "          error_avg = (self.current_error+self.current_error_prev)/2\n",
        "          self.current_error_acc =  ((1-aL*self.tau/2)*self.current_error_acc + error_avg*self.tau)/(1+aL*self.tau/2)#Low Pass\n",
        "          HP_delta_error =  ((1-aL*self.tau/2)*self.current_error + aH*delta_error)/(1+aL*self.tau/2)#High Pass\n",
        "\n",
        "        else:\n",
        "          self.current_error_acc = (1-aL*self.tau)*self.current_error_acc+(self.current_error_prev)*self.tau #Low Pass\n",
        "          HP_delta_error = (1-aH*self.tau)*self.current_error + aH*delta_error #High Pass\n",
        "\n",
        "        P = self.Kp*self.current_error\n",
        "        #I = self.Ki*self.current_error_acc*self.tau\n",
        "        I = self.Ki*self.current_error_acc\n",
        "        #D = self.Kd*HP_delta_error/self.tau\n",
        "        D = self.Kd*HP_delta_error/self.tau\n",
        "        voltage_BEMF = x_dot*self.bemf_const_Ke\n",
        "        voltage_input = P+I+D+voltage_BEMF\n",
        "        voltage_input = np.clip(voltage_input, -20, 20)\n",
        "\n",
        "        self.current_error_prev = 0+self.current_error\n",
        "        self.current += self.tau*(voltage_input-voltage_BEMF-self.current*self.Resistor_R)/self.inductor_L\n",
        "        self.voltage_input = voltage_input\n",
        "        self.xdot = x_dot\n",
        "        F=self.torque_const_Kt*self.current\n",
        "\n",
        "        return F # return applied Force"
      ]
    },
    {
      "cell_type": "code",
      "execution_count": null,
      "metadata": {
        "id": "2Af3_4j37zcD"
      },
      "outputs": [],
      "source": [
        "### Instantiate a costimized Cartpole environment ###\n",
        "\n",
        "env_with_pid = CartPoleEnvCustomized_with_pid()"
      ]
    },
    {
      "cell_type": "code",
      "execution_count": null,
      "metadata": {
        "colab": {
          "base_uri": "https://localhost:8080/"
        },
        "id": "PS1ypy-I7zfF",
        "outputId": "d81c18e5-d458-4a95-82c2-ee774b9cfa06"
      },
      "outputs": [
        {
          "output_type": "stream",
          "name": "stdout",
          "text": [
            "Environment has observation space = Box([-4.8000002e+00 -3.4028235e+38 -4.1887903e-01 -3.4028235e+38], [4.8000002e+00 3.4028235e+38 4.1887903e-01 3.4028235e+38], (4,), float32)\n"
          ]
        }
      ],
      "source": [
        "n_observations = env_with_pid.observation_space\n",
        "print(\"Environment has observation space =\", n_observations)"
      ]
    },
    {
      "cell_type": "code",
      "source": [
        "n_observations_shape = env_with_pid.observation_space.shape\n",
        "print(\"Environment has observation space Shape =\", n_observations_shape)"
      ],
      "metadata": {
        "colab": {
          "base_uri": "https://localhost:8080/"
        },
        "id": "0ceA7de307hz",
        "outputId": "06cf17a3-9e6b-4375-d198-2aca12574f10"
      },
      "execution_count": null,
      "outputs": [
        {
          "output_type": "stream",
          "name": "stdout",
          "text": [
            "Environment has observation space Shape = (4,)\n"
          ]
        }
      ]
    },
    {
      "cell_type": "code",
      "execution_count": null,
      "metadata": {
        "colab": {
          "base_uri": "https://localhost:8080/"
        },
        "id": "B_AJVhwu7zh4",
        "outputId": "50834517-d02a-49c4-e802-96fff1630c19"
      },
      "outputs": [
        {
          "output_type": "stream",
          "name": "stdout",
          "text": [
            "Number of possible actions that the agent can choose from = 2\n"
          ]
        }
      ],
      "source": [
        "n_actions = env_with_pid.action_space.n\n",
        "print(\"Number of possible actions that the agent can choose from =\", n_actions)"
      ]
    },
    {
      "cell_type": "code",
      "execution_count": null,
      "metadata": {
        "id": "WZuONkDl7zlJ"
      },
      "outputs": [],
      "source": [
        "### Define the Cartpole agent ###\n",
        "\n",
        "# Defines a feed-forward neural network\n",
        "def create_cartpole_model():\n",
        "    model = tf.keras.models.Sequential([\n",
        "        # INput Layer Added $$$$$$$$\n",
        "        tf.keras.layers.Input(shape=n_observations_shape),\n",
        "        # First Dense layer\n",
        "        tf.keras.layers.Dense(units=32, activation='relu'),\n",
        "        # Last Dense layer,\n",
        "        tf.keras.layers.Dense(units=n_actions, activation=None)\n",
        "    ])\n",
        "    return model\n",
        "\n",
        "cartpole_model = create_cartpole_model()"
      ]
    },
    {
      "cell_type": "code",
      "execution_count": null,
      "metadata": {
        "id": "UhQeE2lZ8POU"
      },
      "outputs": [],
      "source": [
        "### Define the agent's action function ###\n",
        "\n",
        "# Function that takes observations as input, executes a forward pass through model,\n",
        "#   and outputs a sampled action.\n",
        "# Arguments:\n",
        "#   model: the network that defines our agent\n",
        "#   observation: observwhich is/are fed as input to the model\n",
        "#   single: flag as to whether we are handling a single observation or batch of\n",
        "#     observations, provided as an np.array\n",
        "# Returns:\n",
        "#   action: choice of agent action\n",
        "def choose_action(model, observation, single=True):\n",
        "    # add batch dimension to the observation if only a single example was provided\n",
        "    observation = np.expand_dims(observation, axis=0) if single else observation\n",
        "\n",
        "    # feed the observations through the model to predict the log probabilities of each possible action.\n",
        "    logits = model.predict(observation)\n",
        "\n",
        "    #Choose an action from the categorical distribution defined by the log\n",
        "     #  probabilities of each possible action.\n",
        "    action = tf.random.categorical(logits, num_samples=1)\n",
        "\n",
        "    action = action.numpy().flatten()\n",
        "\n",
        "    return action[0] if single else action"
      ]
    },
    {
      "cell_type": "code",
      "execution_count": null,
      "metadata": {
        "id": "FUPYtYUU8PLc"
      },
      "outputs": [],
      "source": [
        "### Agent Memory ###\n",
        "\n",
        "class Memory:\n",
        "    def __init__(self):\n",
        "        self.clear()\n",
        "\n",
        "  # Resets/restarts the memory buffer\n",
        "    def clear(self):\n",
        "        self.observations = []\n",
        "        self.actions = []\n",
        "        self.rewards = []\n",
        "\n",
        "  # Add observations, actions, rewards to memory\n",
        "    def add_to_memory(self, new_observation, new_action, new_reward):\n",
        "        self.observations.append(new_observation)\n",
        "        # update the list of actions with new action\n",
        "        self.actions.append(new_action)\n",
        "        # update the list of rewards with new reward\n",
        "        self.rewards.append(new_reward)\n",
        "\n",
        "    def __len__(self):\n",
        "        return len(self.actions)\n",
        "\n",
        "# Instantiate a single Memory buffer\n",
        "memory = Memory()"
      ]
    },
    {
      "cell_type": "code",
      "execution_count": null,
      "metadata": {
        "id": "QvawJ8pv8PHx"
      },
      "outputs": [],
      "source": [
        "### Reward function ###\n",
        "\n",
        "# Helper function that normalizes an np.array x\n",
        "def normalize(x):\n",
        "    x -= np.mean(x)\n",
        "    x /= np.std(x)\n",
        "    return x.astype(np.float32)\n",
        "\n",
        "# Compute normalized, discounted, cumulative rewards (i.e., return)\n",
        "# Arguments:\n",
        "#   rewards: reward at timesteps in episode\n",
        "#   gamma: discounting factor\n",
        "# Returns:\n",
        "#   normalized discounted reward\n",
        "def discount_rewards(rewards, gamma=0.95): #####################################################################################i_try_1\n",
        "    discounted_rewards = np.zeros_like(rewards)\n",
        "    R = 0\n",
        "    for t in reversed(range(0, len(rewards))):\n",
        "        # update the total discounted reward\n",
        "        R = R * gamma + rewards[t]\n",
        "        discounted_rewards[t] = R\n",
        "\n",
        "    return normalize(discounted_rewards)###########################################################################################i_try_2\n",
        "    #return discounted_rewards\n"
      ]
    },
    {
      "cell_type": "code",
      "execution_count": null,
      "metadata": {
        "id": "D6krkyeZ8PDs"
      },
      "outputs": [],
      "source": [
        "### Loss function ###\n",
        "\n",
        "# Arguments:\n",
        "#   logits: network's predictions for actions to take\n",
        "#   actions: the actions the agent took in an episode\n",
        "#   rewards: the rewards the agent received in an episode\n",
        "# Returns:\n",
        "#   loss\n",
        "def compute_loss(logits, actions, rewards):\n",
        "    '''Compute the negative log probabilities'''\n",
        "    neg_logprob = tf.nn.sparse_softmax_cross_entropy_with_logits(\n",
        "        logits=logits, labels=actions)\n",
        "\n",
        "    '''Scale the negative log probability by the rewards'''\n",
        "    loss = tf.reduce_mean( neg_logprob * rewards )\n",
        "    return loss"
      ]
    },
    {
      "cell_type": "code",
      "execution_count": null,
      "metadata": {
        "id": "7gRcsiv18O8i"
      },
      "outputs": [],
      "source": [
        "### Training step (forward and backpropagation) ###\n",
        "\n",
        "def train_step(model, loss_function, optimizer, observations, actions, discounted_rewards, custom_fwd_fn=None):\n",
        "    with tf.GradientTape() as tape:\n",
        "        # Forward propagate through the agent network\n",
        "        if custom_fwd_fn is not None:\n",
        "            prediction = custom_fwd_fn(observations)\n",
        "        else:\n",
        "            prediction = model(observations)\n",
        "\n",
        "        # call the compute_loss function to compute the loss\n",
        "        loss = loss_function(prediction, actions, discounted_rewards)\n",
        "\n",
        "    #run backpropagation to minimize the loss using the tape.gradient method.\n",
        "    grads = tape.gradient(loss, model.trainable_variables)\n",
        "    grads, _ = tf.clip_by_global_norm(grads, 2)\n",
        "    optimizer.apply_gradients(zip(grads, model.trainable_variables))"
      ]
    },
    {
      "cell_type": "code",
      "execution_count": null,
      "metadata": {
        "id": "Zku5ZdQC8O0-"
      },
      "outputs": [],
      "source": [
        "import matplotlib.pyplot as plt\n",
        "import tensorflow as tf\n",
        "import time\n",
        "import numpy as np\n",
        "\n",
        "from IPython import display as ipythondisplay\n",
        "from string import Formatter\n",
        "\n",
        "\n",
        "\n",
        "\n",
        "\n",
        "def display_model(model):\n",
        "  tf.keras.utils.plot_model(model,\n",
        "             to_file='tmp.png',\n",
        "             show_shapes=True)\n",
        "  return ipythondisplay.Image('tmp.png')\n",
        "\n",
        "\n",
        "def plot_sample(x,y,vae):\n",
        "    plt.figure(figsize=(2,1))\n",
        "    plt.subplot(1, 2, 1)\n",
        "\n",
        "    idx = np.where(y==1)[0][0]\n",
        "    plt.imshow(x[idx])\n",
        "    plt.grid(False)\n",
        "\n",
        "    plt.subplot(1, 2, 2)\n",
        "    _, _, _, recon = vae(x)\n",
        "    recon = np.clip(recon, 0, 1)\n",
        "    plt.imshow(recon[idx])\n",
        "    plt.grid(False)\n",
        "\n",
        "    plt.show()\n",
        "\n",
        "\n",
        "\n",
        "\n",
        "class PeriodicPlotter:\n",
        "  def __init__(self, sec, xlabel='', ylabel='', scale=None):\n",
        "\n",
        "    self.xlabel = xlabel\n",
        "    self.ylabel = ylabel\n",
        "    self.sec = sec\n",
        "    self.scale = scale\n",
        "\n",
        "    self.tic = time.time()\n",
        "\n",
        "  def plot(self, data):\n",
        "    if time.time() - self.tic > self.sec:\n",
        "      plt.cla() # Clear the current axes.\n",
        "\n",
        "      if self.scale is None:\n",
        "        plt.plot(data)\n",
        "      elif self.scale == 'semilogx':\n",
        "        plt.semilogx(data)\n",
        "      elif self.scale == 'semilogy':\n",
        "        plt.semilogy(data)\n",
        "      elif self.scale == 'loglog':\n",
        "        plt.loglog(data)\n",
        "      else:\n",
        "        raise ValueError(\"unrecognized parameter scale {}\".format(self.scale))\n",
        "\n",
        "      plt.xlabel(self.xlabel); plt.ylabel(self.ylabel)\n",
        "      ipythondisplay.clear_output(wait=True)\n",
        "      ipythondisplay.display(plt.gcf())\n",
        "\n",
        "      self.tic = time.time()"
      ]
    },
    {
      "cell_type": "code",
      "execution_count": null,
      "metadata": {
        "id": "6RoEYV6d8Ovw"
      },
      "outputs": [],
      "source": [
        "# This class stores a filtered loss' history\n",
        "# with a parameter smoothing_factor\n",
        "class LossHistory:\n",
        "  def __init__(self, smoothing_factor=0.0):\n",
        "    self.alpha = smoothing_factor\n",
        "    self.loss = []\n",
        "  def append(self, value):\n",
        "    self.loss.append( self.alpha*self.loss[-1] + (1-self.alpha)*value if len(self.loss)>0 else value )\n",
        "  def get(self):\n",
        "    return self.loss"
      ]
    },
    {
      "cell_type": "code",
      "execution_count": null,
      "metadata": {
        "id": "bS1nP6YD8Ooe"
      },
      "outputs": [],
      "source": [
        "## Training parameters ##\n",
        "## Re-run this cell to restart training from scratch ##\n",
        "\n",
        "# Learning rate and optimizer\n",
        "learning_rate = 1e-3\n",
        "optimizer = tf.keras.optimizers.Adam(learning_rate)\n",
        "\n",
        "# instantiate cartpole agent\n",
        "cartpole_model = create_cartpole_model()\n",
        "\n",
        "# to track our progress\n",
        "smoothed_reward = LossHistory(smoothing_factor=0.95)######################################################################i_try_3\n",
        "#smoothed_reward = LossHistory(smoothing_factor=0.0)\n",
        "plotter = PeriodicPlotter(sec=2, xlabel='Iterations', ylabel='Rewards')"
      ]
    },
    {
      "cell_type": "markdown",
      "metadata": {
        "id": "SC2jmKNYLjGT"
      },
      "source": [
        "Train with PID"
      ]
    },
    {
      "cell_type": "code",
      "source": [
        "t_max=200\n",
        "t_between_action_choice=1"
      ],
      "metadata": {
        "id": "6VhIjohW62Yj"
      },
      "execution_count": null,
      "outputs": []
    },
    {
      "cell_type": "code",
      "source": [
        "\n",
        "\n",
        "env_with_pid = CartPoleEnvCustomized_with_pid()\n",
        "env_with_pid.DCMotorModel.PID_Discretization = \"Simple\" # \"Forward\" or \"Backward\" or\"\n",
        "                                               #\"Bilinear\" or \"Simple\"\n",
        "#cartpole_model = create_cartpole_model()"
      ],
      "metadata": {
        "id": "T3e3Tl8ButK1"
      },
      "execution_count": null,
      "outputs": []
    },
    {
      "cell_type": "code",
      "execution_count": null,
      "metadata": {
        "colab": {
          "base_uri": "https://localhost:8080/",
          "height": 1000
        },
        "id": "iJGvRZTm85rX",
        "outputId": "5866c493-1906-4dd0-dab6-1b68de78ac34"
      },
      "outputs": [
        {
          "output_type": "display_data",
          "data": {
            "text/plain": [
              "<Figure size 432x288 with 1 Axes>"
            ],
            "image/png": "[encoded data removed]"
          },
          "metadata": {}
        },
        {
          "output_type": "stream",
          "name": "stdout",
          "text": [
            "1/1 [==============================] - 0s 22ms/step\n",
            "1/1 [==============================] - 0s 21ms/step\n",
            "1/1 [==============================] - 0s 21ms/step\n",
            "1/1 [==============================] - 0s 20ms/step\n",
            "1/1 [==============================] - 1s 643ms/step\n",
            "1/1 [==============================] - 0s 20ms/step\n",
            "1/1 [==============================] - 0s 21ms/step\n",
            "1/1 [==============================] - 0s 20ms/step\n",
            "1/1 [==============================] - 0s 20ms/step\n",
            "1/1 [==============================] - 0s 20ms/step\n",
            "1/1 [==============================] - 1s 639ms/step\n",
            "1/1 [==============================] - 0s 20ms/step\n",
            "1/1 [==============================] - 0s 20ms/step\n",
            "1/1 [==============================] - 0s 19ms/step\n",
            "1/1 [==============================] - 0s 22ms/step\n",
            "1/1 [==============================] - 1s 727ms/step\n",
            "1/1 [==============================] - 0s 19ms/step\n",
            "1/1 [==============================] - 0s 21ms/step\n",
            "1/1 [==============================] - 0s 20ms/step\n",
            "1/1 [==============================] - 0s 22ms/step\n",
            "1/1 [==============================] - 1s 642ms/step\n",
            "1/1 [==============================] - 0s 19ms/step\n",
            "1/1 [==============================] - 0s 22ms/step\n",
            "1/1 [==============================] - 0s 22ms/step\n",
            "1/1 [==============================] - 0s 21ms/step\n",
            "1/1 [==============================] - 1s 735ms/step\n",
            "1/1 [==============================] - 0s 20ms/step\n",
            "1/1 [==============================] - 0s 19ms/step\n",
            "1/1 [==============================] - 0s 20ms/step\n",
            "1/1 [==============================] - 0s 20ms/step\n",
            "1/1 [==============================] - 0s 24ms/step\n",
            "1/1 [==============================] - 0s 21ms/step\n",
            "1/1 [==============================] - 0s 21ms/step\n",
            "1/1 [==============================] - 0s 21ms/step\n",
            "1/1 [==============================] - 0s 24ms/step\n",
            "1/1 [==============================] - 0s 20ms/step\n",
            "1/1 [==============================] - 0s 20ms/step\n",
            "1/1 [==============================] - 0s 20ms/step\n",
            "1/1 [==============================] - 0s 22ms/step\n",
            "1/1 [==============================] - 0s 23ms/step\n"
          ]
        },
        {
          "output_type": "display_data",
          "data": {
            "text/plain": [
              "<Figure size 432x288 with 1 Axes>"
            ],
            "image/png": "[encoded data removed]"
          },
          "metadata": {
            "needs_background": "light"
          }
        }
      ],
      "source": [
        "## Cartpole training! ##\n",
        "## Note: stoping and restarting this cell will pick up training where you\n",
        "#        left off. To restart training you need to rerun the cell above as\n",
        "#        well (to re-initialize the model and optimizer)\n",
        "\n",
        "\n",
        "#### new list for observation saving\n",
        "save_observation = []\n",
        "#force1, F1\n",
        "save_force1 = []\n",
        "save_F1 = []\n",
        "\n",
        "num_episodes = 1000\n",
        "if hasattr(tqdm, '_instances'): tqdm._instances.clear() # clear if it exists\n",
        "for i_episode in range(num_episodes):\n",
        "\n",
        "    plotter.plot(smoothed_reward.get())\n",
        "    # Restart the environment\n",
        "    observation = env_with_pid.reset()\n",
        "    memory.clear()\n",
        "    t=0\n",
        "    while True:\n",
        "        # using our observation, choose an action and take it in the environment\n",
        "        if t%t_between_action_choice==0:\n",
        "          action = choose_action(cartpole_model, observation)\n",
        "        next_observation, reward, done, info, force1, F1 = env_with_pid.step(action)#################################################change_2########################\n",
        "\n",
        "        if i_episode == num_episodes - 1 :\n",
        "          save_observation.append(next_observation)\n",
        "          save_force1.append(force1)\n",
        "          save_F1.append(F1)\n",
        "\n",
        "        if t_max<t:\n",
        "          t_max=t\n",
        "          cartpole_model.save_weights('abc_best')\n",
        "        t+=1\n",
        "\n",
        "        # add to memory\n",
        "        memory.add_to_memory(observation, action, reward)\n",
        "\n",
        "        # is the episode over? did you crash or do so well that you're done?\n",
        "        if done:\n",
        "            # determine total reward and keep a record of this\n",
        "            total_reward = sum(memory.rewards)\n",
        "            smoothed_reward.append(total_reward)\n",
        "\n",
        "            # initiate training - remember we don't know anything about how the\n",
        "            #   agent is doing until it has crashed!\n",
        "            g = train_step(cartpole_model, compute_loss, optimizer,\n",
        "                       observations=np.vstack(memory.observations),\n",
        "                       actions=np.array(memory.actions),\n",
        "                       discounted_rewards = discount_rewards(memory.rewards))\n",
        "\n",
        "            if i_episode==0:\n",
        "              cartpole_model.save_weights('abc_best')\n",
        "\n",
        "            # reset the memory\n",
        "            memory.clear()\n",
        "            break\n",
        "        # update our observatons\n",
        "        observation = next_observation"
      ]
    },
    {
      "cell_type": "code",
      "execution_count": null,
      "metadata": {
        "id": "mNlHT3rfyGc_"
      },
      "outputs": [],
      "source": [
        "#############################################################################################################start the trained model??###############"
      ]
    },
    {
      "cell_type": "code",
      "execution_count": null,
      "metadata": {
        "id": "H-yX5pcS7L9l"
      },
      "outputs": [],
      "source": [
        "#test with pid part"
      ]
    },
    {
      "cell_type": "code",
      "execution_count": null,
      "metadata": {
        "id": "YsBeU3A5yRRt"
      },
      "outputs": [],
      "source": [
        "cartpole_model.save_weights('abc_last')"
      ]
    },
    {
      "cell_type": "code",
      "source": [],
      "metadata": {
        "id": "6V_pFtK8GCWX"
      },
      "execution_count": null,
      "outputs": []
    },
    {
      "cell_type": "code",
      "execution_count": null,
      "metadata": {
        "id": "CxDlovNT7Xc5",
        "colab": {
          "base_uri": "https://localhost:8080/"
        },
        "outputId": "e3bf0510-8354-4224-dff3-3c7bc5167356"
      },
      "outputs": [
        {
          "output_type": "execute_result",
          "data": {
            "text/plain": [
              "<tensorflow.python.training.tracking.util.CheckpointLoadStatus at 0x7fbb10291c70>"
            ]
          },
          "metadata": {},
          "execution_count": 68
        }
      ],
      "source": [
        "model_1 = create_cartpole_model()\n",
        "model_1.build((32,4))\n",
        "#model_1.load_weights('abc_best')\n",
        "model_1.load_weights('abc_last')\n"
      ]
    },
    {
      "cell_type": "code",
      "source": [
        "### Test\n",
        "memory.clear()\n",
        "observation = env_with_pid.reset()\n",
        "save_observation = []\n",
        "#force1, F1\n",
        "save_force1 = []\n",
        "save_F1 = []\n",
        "\n",
        "done=False\n",
        "t=0\n",
        "while not done:\n",
        "    # using our observation, choose an action and take it in the environment\n",
        "    if t%t_between_action_choice==0:\n",
        "      action = choose_action(model_1, observation)\n",
        "    next_observation, reward, done, info, force1, F1 = env_with_pid.step(action)#################################################change_2########################\n",
        "    save_observation.append(next_observation)\n",
        "    save_force1.append(force1)\n",
        "    save_F1.append(F1)\n",
        "    observation = next_observation\n",
        "    t+=1\n",
        "\n"
      ],
      "metadata": {
        "colab": {
          "base_uri": "https://localhost:8080/"
        },
        "id": "Wgnwg_Ue_I06",
        "outputId": "391d2851-ee79-4ac9-9766-e9ebf74ba73e"
      },
      "execution_count": null,
      "outputs": [
        {
          "output_type": "stream",
          "name": "stdout",
          "text": [
            "1/1 [==============================] - 0s 56ms/step\n",
            "1/1 [==============================] - 0s 20ms/step\n",
            "1/1 [==============================] - 0s 21ms/step\n",
            "1/1 [==============================] - 0s 22ms/step\n",
            "1/1 [==============================] - 0s 21ms/step\n",
            "1/1 [==============================] - 0s 26ms/step\n",
            "1/1 [==============================] - 0s 22ms/step\n",
            "1/1 [==============================] - 0s 21ms/step\n",
            "1/1 [==============================] - 0s 21ms/step\n",
            "1/1 [==============================] - 0s 20ms/step\n",
            "1/1 [==============================] - 0s 163ms/step\n"
          ]
        }
      ]
    },
    {
      "cell_type": "code",
      "execution_count": null,
      "metadata": {
        "id": "87zmtzwH7j5U",
        "colab": {
          "base_uri": "https://localhost:8080/",
          "height": 87
        },
        "outputId": "8a832816-5481-4983-d545-f8cd962f1ad3"
      },
      "outputs": [
        {
          "output_type": "execute_result",
          "data": {
            "text/plain": [
              "\"\\n## Training parameters ##\\n## Re-run this cell to restart training from scratch ##\\n\\n# Learning rate and optimizer\\nlearning_rate = 1e-3\\noptimizer = tf.keras.optimizers.Adam(learning_rate)\\n\\n# instantiate cartpole agent\\ncartpole_model = create_cartpole_model()\\n\\n# to track our progress\\nsmoothed_reward = LossHistory(smoothing_factor=0.95)######################################################################i_try_3\\n#smoothed_reward = LossHistory(smoothing_factor=0.0)\\nplotter = PeriodicPlotter(sec=2, xlabel='Iterations', ylabel='Rewards')\\n\""
            ],
            "application/vnd.google.colaboratory.intrinsic+json": {
              "type": "string"
            }
          },
          "metadata": {},
          "execution_count": 70
        }
      ],
      "source": [
        "'''\n",
        "## Training parameters ##\n",
        "## Re-run this cell to restart training from scratch ##\n",
        "\n",
        "# Learning rate and optimizer\n",
        "learning_rate = 1e-3\n",
        "optimizer = tf.keras.optimizers.Adam(learning_rate)\n",
        "\n",
        "# instantiate cartpole agent\n",
        "cartpole_model = create_cartpole_model()\n",
        "\n",
        "# to track our progress\n",
        "smoothed_reward = LossHistory(smoothing_factor=0.95)######################################################################i_try_3\n",
        "#smoothed_reward = LossHistory(smoothing_factor=0.0)\n",
        "plotter = PeriodicPlotter(sec=2, xlabel='Iterations', ylabel='Rewards')\n",
        "'''"
      ]
    },
    {
      "cell_type": "code",
      "execution_count": null,
      "metadata": {
        "id": "qqJE_zoefDWj",
        "colab": {
          "base_uri": "https://localhost:8080/",
          "height": 105
        },
        "outputId": "85adc55c-bdc4-4a7d-a895-c767afe28e43"
      },
      "outputs": [
        {
          "output_type": "execute_result",
          "data": {
            "text/plain": [
              "'\\n###Test\\n#### new list for observation saving\\n\\nbest_model = create_cartpole_model()\\nbest_model.build((32,4)) \\nbest_model.load_weights(\\'abc\\')\\n\\nsave_observation = []\\n#force1, F1\\nsave_force1 = []\\nsave_F1 = []\\n\\n#best_reward=-100\\n\\nenv_with_pid = CartPoleEnvCustomized_with_pid()\\nenv_with_pid.DCMotorModel.PID_Discretization = \"Simple\" # \"Forward\" or \"Backward\" or\" \\n                                               #\"Bilinear\" or \"Simple\\n\\nobservation = env_with_pid.reset()\\nt=0\\ndone = False \\nwhile not done:\\n  if t%5==0:\\n    action = choose_action(best_model, observation)\\n  next_observation, reward, done, info, force1, F1 = env_with_pid.step(action)\\n  save_observation.append(next_observation)\\n  save_force1.append(force1)\\n  save_F1.append(F1)\\n  t+=1\\n#end while\\n'"
            ],
            "application/vnd.google.colaboratory.intrinsic+json": {
              "type": "string"
            }
          },
          "metadata": {},
          "execution_count": 71
        }
      ],
      "source": [
        "'''\n",
        "###Test\n",
        "#### new list for observation saving\n",
        "\n",
        "best_model = create_cartpole_model()\n",
        "best_model.build((32,4))\n",
        "best_model.load_weights('abc')\n",
        "\n",
        "save_observation = []\n",
        "#force1, F1\n",
        "save_force1 = []\n",
        "save_F1 = []\n",
        "\n",
        "#best_reward=-100\n",
        "\n",
        "env_with_pid = CartPoleEnvCustomized_with_pid()\n",
        "env_with_pid.DCMotorModel.PID_Discretization = \"Simple\" # \"Forward\" or \"Backward\" or\"\n",
        "                                               #\"Bilinear\" or \"Simple\n",
        "\n",
        "observation = env_with_pid.reset()\n",
        "t=0\n",
        "done = False\n",
        "while not done:\n",
        "  if t%5==0:\n",
        "    action = choose_action(best_model, observation)\n",
        "  next_observation, reward, done, info, force1, F1 = env_with_pid.step(action)\n",
        "  save_observation.append(next_observation)\n",
        "  save_force1.append(force1)\n",
        "  save_F1.append(F1)\n",
        "  t+=1\n",
        "#end while\n",
        "'''\n"
      ]
    },
    {
      "cell_type": "code",
      "execution_count": null,
      "metadata": {
        "id": "4Fo5NtzrfDT2"
      },
      "outputs": [],
      "source": []
    },
    {
      "cell_type": "code",
      "execution_count": null,
      "metadata": {
        "id": "tmK1p_ve85oo",
        "colab": {
          "base_uri": "https://localhost:8080/",
          "height": 265
        },
        "outputId": "c52e6897-8e77-4ef0-96a1-09a98b4a3af5"
      },
      "outputs": [
        {
          "output_type": "display_data",
          "data": {
            "text/plain": [
              "<Figure size 432x288 with 1 Axes>"
            ],
            "image/png": "[encoded data removed]"
          },
          "metadata": {
            "needs_background": "light"
          }
        }
      ],
      "source": [
        "# Plotting the Graph\n",
        "# range(start, stop, step) # tau =0.02\n",
        "time_position_force1= np.linspace(start = 0, stop = len(save_force1)* 0.02,num=len(save_force1) )\n",
        "#plt.plot(time_position_force1, save_force1)\n",
        "'''\n",
        "plt.title(\"position time responce\")\n",
        "plt.xlabel(\"time\")\n",
        "plt.ylabel(\"position\")\n",
        "'''\n",
        "plt.step(time_position_force1, save_force1)\n",
        "plt.show()"
      ]
    },
    {
      "cell_type": "code",
      "execution_count": null,
      "metadata": {
        "id": "Fc--zAsnYnBT",
        "colab": {
          "base_uri": "https://localhost:8080/",
          "height": 320
        },
        "outputId": "f8fbac2a-4c57-4e1e-9330-583c856236b1"
      },
      "outputs": [
        {
          "output_type": "display_data",
          "data": {
            "text/plain": [
              "<Figure size 720x360 with 1 Axes>"
            ],
            "image/png": "[encoded data removed]"
          },
          "metadata": {
            "needs_background": "light"
          }
        }
      ],
      "source": [
        "# Plotting the Graph\n",
        "# range(start, stop, step) # tau =0.02\n",
        "time_position_force1= np.linspace(start = 0, stop = len(save_force1)* 0.02,num=len(save_force1) )\n",
        "#plt.plot(time_position_force1, save_force1)\n",
        "'''\n",
        "plt.title(\"position time responce\")\n",
        "plt.xlabel(\"time\")\n",
        "plt.ylabel(\"position\")\n",
        "'''\n",
        "\n",
        "f = plt.figure()\n",
        "f.set_figwidth(10)\n",
        "f.set_figheight(5)\n",
        "\n",
        "plt.step(time_position_force1, save_force1)\n",
        "plt.show()\n"
      ]
    },
    {
      "cell_type": "code",
      "execution_count": null,
      "metadata": {
        "id": "OBj0uLtf85mB",
        "colab": {
          "base_uri": "https://localhost:8080/",
          "height": 334
        },
        "outputId": "8945994b-57de-459c-b133-deb52685cf20"
      },
      "outputs": [
        {
          "output_type": "display_data",
          "data": {
            "text/plain": [
              "<Figure size 720x360 with 1 Axes>"
            ],
            "image/png": "[encoded data removed]"
          },
          "metadata": {
            "needs_background": "light"
          }
        }
      ],
      "source": [
        "# Plotting the Graph\n",
        "\n",
        "#time_position_save_F1, save_F1\n",
        "# range(start, stop, step) # tau =0.02\n",
        "time_position_save_F1= np.linspace(start = 0, stop = len(save_F1)* 0.02,num=len(save_F1) )\n",
        "#plt.plot(time_position_force1, save_force1)\n",
        "'''\n",
        "plt.title(\"position time responce\")\n",
        "plt.xlabel(\"time\")\n",
        "plt.ylabel(\"position\")\n",
        "'''\n",
        "\n",
        "f = plt.figure()\n",
        "f.set_figwidth(10)\n",
        "f.set_figheight(5)\n",
        "\n",
        "plt.step(time_position_save_F1, save_F1)\n",
        "plt.grid()\n",
        "plt.xlabel('Time [sec]')\n",
        "plt.ylabel('Force [N]')\n",
        "plt.show()"
      ]
    },
    {
      "cell_type": "code",
      "execution_count": null,
      "metadata": {
        "id": "x21xHhdM85jB",
        "colab": {
          "base_uri": "https://localhost:8080/"
        },
        "outputId": "7f81fd2a-ae10-4485-f9bd-79a5bd5431ce"
      },
      "outputs": [
        {
          "output_type": "display_data",
          "data": {
            "text/plain": [
              "<Figure size 720x360 with 1 Axes>"
            ],
            "image/png": "[encoded data removed]"
          },
          "metadata": {
            "needs_background": "light"
          }
        }
      ],
      "source": [
        "f = plt.figure()\n",
        "f.set_figwidth(10)\n",
        "f.set_figheight(5)\n",
        "\n",
        "plt.step(time_position_force1, save_force1,label = \"wanted_force\")\n",
        "plt.step(time_position_save_F1, save_F1,label = \"actual_force\")\n",
        "plt.legend()\n",
        "plt.grid()\n",
        "plt.xlabel('Time [sec]')\n",
        "plt.ylabel('Force [N]')\n",
        "plt.show()"
      ]
    },
    {
      "cell_type": "code",
      "execution_count": null,
      "metadata": {
        "id": "VOOXwTsV9Ikx"
      },
      "outputs": [],
      "source": [
        "# distribution to 4 observation parameters\n",
        "\n",
        "position = []\n",
        "velocity = []\n",
        "angle = []\n",
        "angular_velocity = []\n",
        "for observ in save_observation:\n",
        "  for index,value in enumerate(observ):\n",
        "    if index == 0:\n",
        "      position.append(value)\n",
        "    if index == 1:\n",
        "      velocity.append(value)\n",
        "    if index == 2:\n",
        "      angle.append(value)\n",
        "    if index == 3:\n",
        "      angular_velocity.append(value)"
      ]
    },
    {
      "cell_type": "code",
      "execution_count": null,
      "metadata": {
        "id": "j6wSXu3E9Ig6",
        "colab": {
          "base_uri": "https://localhost:8080/"
        },
        "outputId": "f4d06d65-1c94-4329-e461-2cdbf03388c0"
      },
      "outputs": [
        {
          "output_type": "display_data",
          "data": {
            "text/plain": [
              "<Figure size 432x288 with 1 Axes>"
            ],
            "image/png": "[encoded data removed]"
          },
          "metadata": {
            "needs_background": "light"
          }
        }
      ],
      "source": [
        "from scipy.interpolate import make_interp_spline, BSpline\n",
        "\n",
        "time_position = np.linspace(start = 0, stop = len(position)* 0.02,num=len(position))##############################################\n",
        "#time_position , position\n",
        "# 300 represents number of points to make between T.min and T.max\n",
        "xnew = np.linspace(0, time_position[-1] , 300)\n",
        "\n",
        "spl = make_interp_spline(time_position, position, k=3)  # type: BSpline\n",
        "power_smooth = spl(xnew)\n",
        "\n",
        "plt.plot(xnew, power_smooth)\n",
        "plt.grid()\n",
        "plt.xlabel('Time [sec]')\n",
        "plt.ylabel('Position [m]')\n",
        "plt.show()"
      ]
    },
    {
      "cell_type": "code",
      "execution_count": null,
      "metadata": {
        "id": "iPt5DpyrZ-hY",
        "colab": {
          "base_uri": "https://localhost:8080/"
        },
        "outputId": "39e0ab4b-9ece-4d27-9de7-e16c95bd1c4c"
      },
      "outputs": [
        {
          "output_type": "stream",
          "name": "stdout",
          "text": [
            "51\n"
          ]
        }
      ],
      "source": [
        "print(len(position))\n"
      ]
    },
    {
      "cell_type": "code",
      "execution_count": null,
      "metadata": {
        "id": "uyBVEU2k9Id_",
        "colab": {
          "base_uri": "https://localhost:8080/"
        },
        "outputId": "0fd4de0c-b013-40bc-96db-cff0d69e9aad"
      },
      "outputs": [
        {
          "output_type": "display_data",
          "data": {
            "text/plain": [
              "<Figure size 432x288 with 1 Axes>"
            ],
            "image/png": "[encoded data removed]"
          },
          "metadata": {
            "needs_background": "light"
          }
        }
      ],
      "source": [
        "from scipy.interpolate import make_interp_spline, BSpline\n",
        "\n",
        "time_velocity = np.linspace(start = 0, stop = len(velocity)* 0.02,num=len(velocity))\n",
        "#time_velocity , velocity\n",
        "# 300 represents number of points to make between T.min and T.max\n",
        "xnew = np.linspace(0, time_velocity[-1] , 300)\n",
        "\n",
        "spl = make_interp_spline(time_velocity, velocity, k=3)  # type: BSpline\n",
        "power_smooth = spl(xnew)\n",
        "\n",
        "plt.plot(xnew, power_smooth)\n",
        "plt.grid()\n",
        "plt.xlabel('Time [sec]')\n",
        "plt.ylabel('Velocity [m]')\n",
        "plt.show()"
      ]
    },
    {
      "cell_type": "code",
      "execution_count": null,
      "metadata": {
        "id": "95UIHfLd9Iat",
        "colab": {
          "base_uri": "https://localhost:8080/"
        },
        "outputId": "8954fb59-ffe4-48ab-8a6d-2f6066f71f17"
      },
      "outputs": [
        {
          "output_type": "display_data",
          "data": {
            "text/plain": [
              "<Figure size 432x288 with 1 Axes>"
            ],
            "image/png": "[encoded data removed]"
          },
          "metadata": {
            "needs_background": "light"
          }
        }
      ],
      "source": [
        "from scipy.interpolate import make_interp_spline, BSpline\n",
        "\n",
        "time_angle = np.linspace(start = 0, stop = len(angle)* 0.02,num=len(angle))\n",
        "#time_angle , angle\n",
        "# 300 represents number of points to make between T.min and T.max\n",
        "xnew = np.linspace(0, time_angle[-1] , 300)\n",
        "\n",
        "spl = make_interp_spline(time_angle,angle, k=3)  # type: BSpline\n",
        "power_smooth = spl(xnew)\n",
        "\n",
        "plt.plot(xnew, power_smooth)\n",
        "plt.grid()\n",
        "plt.xlabel('Time [sec]')\n",
        "plt.ylabel('Angle [rad]')\n",
        "plt.show()"
      ]
    },
    {
      "cell_type": "code",
      "execution_count": null,
      "metadata": {
        "id": "fTmzA5AJ9IYE",
        "colab": {
          "base_uri": "https://localhost:8080/"
        },
        "outputId": "c6443583-a463-4ab5-b024-1f45c9a34409"
      },
      "outputs": [
        {
          "output_type": "display_data",
          "data": {
            "text/plain": [
              "<Figure size 432x288 with 1 Axes>"
            ],
            "image/png": "[encoded data removed]"
          },
          "metadata": {
            "needs_background": "light"
          }
        }
      ],
      "source": [
        "from scipy.interpolate import make_interp_spline, BSpline\n",
        "\n",
        "time_angular_velocity = np.linspace(start = 0, stop = len(angular_velocity)* 0.02,num=len(angular_velocity))\n",
        "# 300 represents number of points to make between T.min and T.max\n",
        "xnew = np.linspace(0, time_angular_velocity[-1] , 300)\n",
        "\n",
        "spl = make_interp_spline(time_angular_velocity, angular_velocity, k=3)  # type: BSpline\n",
        "power_smooth = spl(xnew)\n",
        "\n",
        "plt.plot(xnew, power_smooth)\n",
        "plt.grid()\n",
        "plt.xlabel('Time [sec]')\n",
        "plt.ylabel('Angular Velocity [rad/sec]')\n",
        "plt.show()"
      ]
    },
    {
      "cell_type": "code",
      "execution_count": null,
      "metadata": {
        "id": "uiCS4kkJ9a9U"
      },
      "outputs": [],
      "source": []
    },
    {
      "cell_type": "code",
      "execution_count": null,
      "metadata": {
        "id": "9m5faUw79a6d"
      },
      "outputs": [],
      "source": []
    },
    {
      "cell_type": "code",
      "execution_count": null,
      "metadata": {
        "id": "a-K_B-N_9a3n"
      },
      "outputs": [],
      "source": []
    }
  ],
  "metadata": {
    "colab": {
      "provenance": []
    },
    "kernelspec": {
      "display_name": "Python 3",
      "name": "python3"
    },
    "language_info": {
      "name": "python"
    },
    "gpuClass": "standard"
  },
  "nbformat": 4,
  "nbformat_minor": 0
}